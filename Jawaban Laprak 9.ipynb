{
 "cells": [
  {
   "cell_type": "markdown",
   "metadata": {},
   "source": [
    "Soal 8.1"
   ]
  },
  {
   "cell_type": "code",
   "execution_count": 1,
   "metadata": {},
   "outputs": [
    {
     "name": "stdout",
     "output_type": "stream",
     "text": [
      "Pada File pertama : \n",
      " 1. Saya bingung Kak mau nulis apa disini.\n",
      "Pada File kedua : \n",
      " 1. Disini juga saya tidak tahu menahu ingin menulis apa saja."
     ]
    }
   ],
   "source": [
    "def perbandingan_file(file1_name, file2_name):\n",
    "    with open(file1_name, \"r\") as file1, open(file2_name, \"r\") as file2:\n",
    "        daftar = file1.read().splitlines()\n",
    "        urutan = 1\n",
    "\n",
    "        for panggil_kedua in file2:\n",
    "            panggil_kedua = panggil_kedua.strip()\n",
    "            if panggil_kedua in daftar:\n",
    "                continue\n",
    "            print(f\"Pada File pertama : \\n {urutan}. {daftar[urutan-1]}\")\n",
    "            print(f\"Pada File kedua : \\n {urutan}. {panggil_kedua}\", end=\"\")\n",
    "            urutan += 1\n",
    "\n",
    "if __name__ == \"__main__\":\n",
    "    perbandingan_file(\"teks1.txt\", \"teks2.txt\")"
   ]
  },
  {
   "cell_type": "markdown",
   "metadata": {},
   "source": [
    "Soal 8.2"
   ]
  },
  {
   "cell_type": "code",
   "execution_count": 5,
   "metadata": {},
   "outputs": [
    {
     "name": "stdout",
     "output_type": "stream",
     "text": [
      "1+1 = \n"
     ]
    },
    {
     "name": "stdout",
     "output_type": "stream",
     "text": [
      "Jawaban '2' Adalah Jawaban Yang Benar!\n",
      "Bendera Indonesia? \n",
      "Jawaban 'merah putih' Adalah Jawaban Yang Benar!\n",
      "Kota gudeg adalah: \n",
      "Jawaban 'yogyakarta' Adalah Jawaban Yang Benar!\n",
      "Komponen PC untuk penyimpanan file adalah... \n",
      "Jawaban 'harddisk' Adalah Jawaban Yang Benar!\n",
      "50 * 20 = \n",
      "Jawaban '1000' Adalah Jawaban Yang Benar!\n"
     ]
    }
   ],
   "source": [
    "def jawab_soal(file_name):\n",
    "    with open(file_name, \"r\") as folder_soal:\n",
    "        for baris in folder_soal:\n",
    "            soal, jawaban = baris.strip().split(\"||\")\n",
    "            print(soal)\n",
    "            jawab = input(\"Jawaban : \").lower()\n",
    "            if jawab == jawaban.strip().lower():\n",
    "                print(f\"Jawaban '{jawab}' Adalah Jawaban Yang Benar!\")\n",
    "            else:\n",
    "                print(f\"Jawaban '{jawab}' Adalah Jawaban Yang Salah!\")\n",
    "\n",
    "if __name__ == \"__main__\":\n",
    "    jawab_soal(\"soal.txt\")"
   ]
  }
 ],
 "metadata": {
  "kernelspec": {
   "display_name": "Python 3",
   "language": "python",
   "name": "python3"
  },
  "language_info": {
   "codemirror_mode": {
    "name": "ipython",
    "version": 3
   },
   "file_extension": ".py",
   "mimetype": "text/x-python",
   "name": "python",
   "nbconvert_exporter": "python",
   "pygments_lexer": "ipython3",
   "version": "3.12.0"
  }
 },
 "nbformat": 4,
 "nbformat_minor": 2
}
